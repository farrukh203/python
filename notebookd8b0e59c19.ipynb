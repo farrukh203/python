{
 "cells": [
  {
   "cell_type": "code",
   "execution_count": 1,
   "id": "4df8e5b7",
   "metadata": {
    "_cell_guid": "b1076dfc-b9ad-4769-8c92-a6c4dae69d19",
    "_uuid": "8f2839f25d086af736a60e9eeb907d3b93b6e0e5",
    "execution": {
     "iopub.execute_input": "2023-07-10T08:16:48.584927Z",
     "iopub.status.busy": "2023-07-10T08:16:48.584449Z",
     "iopub.status.idle": "2023-07-10T08:16:48.599111Z",
     "shell.execute_reply": "2023-07-10T08:16:48.598289Z"
    },
    "papermill": {
     "duration": 0.021105,
     "end_time": "2023-07-10T08:16:48.601358",
     "exception": false,
     "start_time": "2023-07-10T08:16:48.580253",
     "status": "completed"
    },
    "tags": []
   },
   "outputs": [],
   "source": [
    "# This Python 3 environment comes with many helpful analytics libraries installed\n",
    "# It is defined by the kaggle/python Docker image: https://github.com/kaggle/docker-python\n",
    "# For example, here's several helpful packages to load\n",
    "\n",
    "import numpy as np # linear algebra\n",
    "import pandas as pd # data processing, CSV file I/O (e.g. pd.read_csv)\n",
    "\n",
    "# Input data files are available in the read-only \"../input/\" directory\n",
    "# For example, running this (by clicking run or pressing Shift+Enter) will list all files under the input directory\n",
    "\n",
    "import os\n",
    "for dirname, _, filenames in os.walk('/kaggle/input'):\n",
    "    for filename in filenames:\n",
    "        print(os.path.join(dirname, filename))\n",
    "\n",
    "# You can write up to 20GB to the current directory (/kaggle/working/) that gets preserved as output when you create a version using \"Save & Run All\" \n",
    "# You can also write temporary files to /kaggle/temp/, but they won't be saved outside of the current session"
   ]
  },
  {
   "cell_type": "code",
   "execution_count": 2,
   "id": "4c86e849",
   "metadata": {
    "execution": {
     "iopub.execute_input": "2023-07-10T08:16:48.607362Z",
     "iopub.status.busy": "2023-07-10T08:16:48.606978Z",
     "iopub.status.idle": "2023-07-10T08:16:48.613711Z",
     "shell.execute_reply": "2023-07-10T08:16:48.613025Z"
    },
    "papermill": {
     "duration": 0.012037,
     "end_time": "2023-07-10T08:16:48.615714",
     "exception": false,
     "start_time": "2023-07-10T08:16:48.603677",
     "status": "completed"
    },
    "tags": []
   },
   "outputs": [],
   "source": [
    "import numpy as np\n",
    "p = [[1, 0], [0, 1], [1, 1]]\n",
    "q = [[1, 2], [3, 4]]\n",
    "\n",
    "#outer_product = np.outer(p, q)\n",
    "#print(outer_product)\n",
    "#print(len(outer_product))\n",
    "#print(outer_product[1][1])\n",
    "\n",
    "\n",
    "#cross_product = np.cross(q, p)\n",
    "#print(cross_product)\n",
    "\n",
    "#mul_matrix = np.matmul(p, q)\n",
    "#print(mul_matrix)\n",
    "\n",
    "\n",
    "original_list =  [[12.23, 13.32, 100, 36.32], [1, 4, 7, 6]]\n",
    "#one_dimensional = np.array(original_list)\n",
    "#print(one_dimensional)\n",
    "#one_dimensional.flatten()\n",
    "#print(one_dimensional)\n",
    "\n",
    "#a = np.array([[1,2,3,4], [3,4,5,6]])\n",
    "#a.flatten('f')\n",
    "\n",
    "#list1 = []\n",
    "#for i in range(2, 11):\n",
    "#   list1.append(i)\n",
    "#arr = np.array(list1)\n",
    "#matrix = arr.reshape(3, 3)\n",
    "#print(matrix)\n",
    "\n",
    "\n",
    "#size = 10\n",
    "#null_vec = np.zeros(size)\n",
    "#null_vec[5] = 11\n",
    "#print(null_vec)\n",
    "#matrix = null_vec.reshape(2,5)\n",
    "#print(matrix)\n",
    "\n",
    "\n",
    "#null_vec = np.zeros((8,8), dtype=int)\n",
    "#null_vec[1::2, ::2] = 1\n",
    "#null_vec[0::2, ::2] = 1\n",
    "#print(null_vec)\n",
    "\n",
    "\n",
    "#fahrenheit_val = [0, 12, 45.21, 34, 99.91]\n",
    "#arr = np.array(fahrenheit_val)\n",
    "#centigrade_val = np.round(5*arr/9 - 5*32/9, 2)\n",
    "#print(centigrade_val)\n",
    "\n",
    "\n",
    "#list1 = [[10 , 20, 30], [20, 40, 50]]\n",
    "#arr = np.array(list1)\n",
    "#contig_flat = arr.flatten()\n",
    "#print(contig_flat)\n",
    "\n",
    "\n",
    "#list1 = [[1, 2], [3, 4], [5, 6]]\n",
    "#arr = np.array(list1)\n",
    "#new_shape = arr.reshape(2, 3)\n",
    "#print(new_shape)"
   ]
  }
 ],
 "metadata": {
  "kernelspec": {
   "display_name": "Python 3",
   "language": "python",
   "name": "python3"
  },
  "language_info": {
   "codemirror_mode": {
    "name": "ipython",
    "version": 3
   },
   "file_extension": ".py",
   "mimetype": "text/x-python",
   "name": "python",
   "nbconvert_exporter": "python",
   "pygments_lexer": "ipython3",
   "version": "3.10.10"
  },
  "papermill": {
   "default_parameters": {},
   "duration": 11.936121,
   "end_time": "2023-07-10T08:16:49.437529",
   "environment_variables": {},
   "exception": null,
   "input_path": "__notebook__.ipynb",
   "output_path": "__notebook__.ipynb",
   "parameters": {},
   "start_time": "2023-07-10T08:16:37.501408",
   "version": "2.4.0"
  }
 },
 "nbformat": 4,
 "nbformat_minor": 5
}
