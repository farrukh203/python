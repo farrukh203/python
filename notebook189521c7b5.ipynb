{
 "cells": [
  {
   "cell_type": "code",
   "execution_count": 1,
   "id": "0f4ff35d",
   "metadata": {
    "_cell_guid": "b1076dfc-b9ad-4769-8c92-a6c4dae69d19",
    "_uuid": "8f2839f25d086af736a60e9eeb907d3b93b6e0e5",
    "execution": {
     "iopub.execute_input": "2023-06-25T10:38:13.867315Z",
     "iopub.status.busy": "2023-06-25T10:38:13.866779Z",
     "iopub.status.idle": "2023-06-25T10:38:13.876255Z",
     "shell.execute_reply": "2023-06-25T10:38:13.875518Z"
    },
    "papermill": {
     "duration": 0.014907,
     "end_time": "2023-06-25T10:38:13.878114",
     "exception": false,
     "start_time": "2023-06-25T10:38:13.863207",
     "status": "completed"
    },
    "tags": []
   },
   "outputs": [],
   "source": [
    "# This Python 3 environment comes with many helpful analytics libraries installed\n",
    "# It is defined by the kaggle/python Docker image: https://github.com/kaggle/docker-python\n",
    "# For example, here's several helpful packages to load\n",
    "\n",
    "import numpy as np # linear algebra\n",
    "import pandas as pd # data processing, CSV file I/O (e.g. pd.read_csv)\n",
    "\n",
    "# Input data files are available in the read-only \"../input/\" directory\n",
    "# For example, running this (by clicking run or pressing Shift+Enter) will list all files under the input directory\n",
    "\n",
    "import os\n",
    "for dirname, _, filenames in os.walk('/kaggle/input'):\n",
    "    for filename in filenames:\n",
    "        print(os.path.join(dirname, filename))\n",
    "\n",
    "# You can write up to 20GB to the current directory (/kaggle/working/) that gets preserved as output when you create a version using \"Save & Run All\" \n",
    "# You can also write temporary files to /kaggle/temp/, but they won't be saved outside of the current session"
   ]
  },
  {
   "cell_type": "code",
   "execution_count": 2,
   "id": "f1386275",
   "metadata": {
    "execution": {
     "iopub.execute_input": "2023-06-25T10:38:13.882966Z",
     "iopub.status.busy": "2023-06-25T10:38:13.882442Z",
     "iopub.status.idle": "2023-06-25T10:38:13.893057Z",
     "shell.execute_reply": "2023-06-25T10:38:13.892226Z"
    },
    "papermill": {
     "duration": 0.015373,
     "end_time": "2023-06-25T10:38:13.895289",
     "exception": false,
     "start_time": "2023-06-25T10:38:13.879916",
     "status": "completed"
    },
    "tags": []
   },
   "outputs": [
    {
     "name": "stdout",
     "output_type": "stream",
     "text": [
      "1\n",
      "2\n",
      "3\n",
      "popped value is 3\n",
      "1\n",
      "2\n",
      "1\n",
      "2\n",
      "4\n",
      "popped value is 4\n",
      "1\n",
      "2\n"
     ]
    }
   ],
   "source": [
    "class Node:\n",
    "    def __init__(self , data):\n",
    "        self.data = data\n",
    "        self.next = None\n",
    "        \n",
    "        \n",
    "        \n",
    "class LinkedList:\n",
    "    def __init__(self):\n",
    "        self.head = None\n",
    "    \n",
    "    def append(self , data):\n",
    "        new_node = Node(data)\n",
    "        if (self.head):\n",
    "            current = self.head\n",
    "            while (current.next):\n",
    "                current = current.next\n",
    "            current.next = new_node\n",
    "            #self.head = new_node\n",
    "        else:\n",
    "            self.head = new_node\n",
    "        \n",
    "    \n",
    "    def pop(self):\n",
    "        popped_value = None\n",
    "        if self.head is not None:\n",
    "            if self.head.next == None:\n",
    "                popped_value = self.head.data\n",
    "                self.head = None\n",
    "            else:\n",
    "                current = self.head\n",
    "                while (current.next):\n",
    "                    if current.next.next == None:\n",
    "                        popped_value = current.next.data\n",
    "                        current.next = None\n",
    "                    else:\n",
    "                        current = current.next\n",
    "            #print(f'popped value is {popped_value}')\n",
    "            return popped_value\n",
    "        else:\n",
    "            #print(f'List is empty theres no value to popped  {popped_value}')\n",
    "            return popped_value\n",
    "    \n",
    "    def print_all(self):\n",
    "        if self.head == None:\n",
    "            print('List is empty')\n",
    "        else:\n",
    "            current = self.head\n",
    "            while (current):\n",
    "                print(current.data)\n",
    "                current = current.next\n",
    "            \n",
    "            \n",
    "list_obj = LinkedList()\n",
    "list_obj.append(1)\n",
    "list_obj.append(2)\n",
    "list_obj.append(3)\n",
    "list_obj.print_all()\n",
    "print('popped value is' , list_obj.pop())\n",
    "list_obj.print_all()\n",
    "list_obj.append(4)\n",
    "list_obj.print_all()\n",
    "print('popped value is' , list_obj.pop())\n",
    "list_obj.print_all()\n"
   ]
  }
 ],
 "metadata": {
  "kernelspec": {
   "display_name": "Python 3",
   "language": "python",
   "name": "python3"
  },
  "language_info": {
   "codemirror_mode": {
    "name": "ipython",
    "version": 3
   },
   "file_extension": ".py",
   "mimetype": "text/x-python",
   "name": "python",
   "nbconvert_exporter": "python",
   "pygments_lexer": "ipython3",
   "version": "3.10.10"
  },
  "papermill": {
   "default_parameters": {},
   "duration": 11.12756,
   "end_time": "2023-06-25T10:38:14.717930",
   "environment_variables": {},
   "exception": null,
   "input_path": "__notebook__.ipynb",
   "output_path": "__notebook__.ipynb",
   "parameters": {},
   "start_time": "2023-06-25T10:38:03.590370",
   "version": "2.4.0"
  }
 },
 "nbformat": 4,
 "nbformat_minor": 5
}
