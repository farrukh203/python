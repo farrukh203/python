{
 "cells": [
  {
   "cell_type": "code",
   "execution_count": 1,
   "id": "1a20064e",
   "metadata": {
    "_cell_guid": "b1076dfc-b9ad-4769-8c92-a6c4dae69d19",
    "_uuid": "8f2839f25d086af736a60e9eeb907d3b93b6e0e5",
    "execution": {
     "iopub.execute_input": "2023-06-21T09:13:49.577934Z",
     "iopub.status.busy": "2023-06-21T09:13:49.577515Z",
     "iopub.status.idle": "2023-06-21T09:13:49.592939Z",
     "shell.execute_reply": "2023-06-21T09:13:49.591782Z"
    },
    "papermill": {
     "duration": 0.025489,
     "end_time": "2023-06-21T09:13:49.595792",
     "exception": false,
     "start_time": "2023-06-21T09:13:49.570303",
     "status": "completed"
    },
    "tags": []
   },
   "outputs": [],
   "source": [
    "# This Python 3 environment comes with many helpful analytics libraries installed\n",
    "# It is defined by the kaggle/python Docker image: https://github.com/kaggle/docker-python\n",
    "# For example, here's several helpful packages to load\n",
    "\n",
    "import numpy as np # linear algebra\n",
    "import pandas as pd # data processing, CSV file I/O (e.g. pd.read_csv)\n",
    "\n",
    "# Input data files are available in the read-only \"../input/\" directory\n",
    "# For example, running this (by clicking run or pressing Shift+Enter) will list all files under the input directory\n",
    "\n",
    "import os\n",
    "for dirname, _, filenames in os.walk('/kaggle/input'):\n",
    "    for filename in filenames:\n",
    "        print(os.path.join(dirname, filename))\n",
    "\n",
    "# You can write up to 20GB to the current directory (/kaggle/working/) that gets preserved as output when you create a version using \"Save & Run All\" \n",
    "# You can also write temporary files to /kaggle/temp/, but they won't be saved outside of the current session"
   ]
  },
  {
   "cell_type": "code",
   "execution_count": 2,
   "id": "2bd27090",
   "metadata": {
    "execution": {
     "iopub.execute_input": "2023-06-21T09:13:49.608081Z",
     "iopub.status.busy": "2023-06-21T09:13:49.607706Z",
     "iopub.status.idle": "2023-06-21T09:13:49.615329Z",
     "shell.execute_reply": "2023-06-21T09:13:49.614114Z"
    },
    "papermill": {
     "duration": 0.017243,
     "end_time": "2023-06-21T09:13:49.618396",
     "exception": false,
     "start_time": "2023-06-21T09:13:49.601153",
     "status": "completed"
    },
    "tags": []
   },
   "outputs": [
    {
     "name": "stdout",
     "output_type": "stream",
     "text": [
      "t\n",
      "i\n",
      "y\n",
      "is my first\n",
      "this is my\n",
      "this is my first string\n",
      "tssyittn\n",
      "i sm is\n"
     ]
    }
   ],
   "source": [
    "# indexing and silicing with string\n",
    "my_string = \"this is my first string\"\n",
    "\n",
    "# string indexing\n",
    "print(my_string[0])\n",
    "print(my_string[5])\n",
    "print(my_string[9])\n",
    "\n",
    "#string slicing\n",
    "print(my_string[5:16])\n",
    "print(my_string[:10])\n",
    "print(my_string[0:])\n",
    "print(my_string[::3])\n",
    "print(my_string[2:16:2])"
   ]
  },
  {
   "cell_type": "code",
   "execution_count": 3,
   "id": "b3d9cc3f",
   "metadata": {
    "execution": {
     "iopub.execute_input": "2023-06-21T09:13:49.630799Z",
     "iopub.status.busy": "2023-06-21T09:13:49.630381Z",
     "iopub.status.idle": "2023-06-21T09:13:49.640337Z",
     "shell.execute_reply": "2023-06-21T09:13:49.639227Z"
    },
    "papermill": {
     "duration": 0.019037,
     "end_time": "2023-06-21T09:13:49.642794",
     "exception": false,
     "start_time": "2023-06-21T09:13:49.623757",
     "status": "completed"
    },
    "tags": []
   },
   "outputs": [
    {
     "name": "stdout",
     "output_type": "stream",
     "text": [
      "wolrd is beautiful\n",
      "sky is most beautiful\n",
      "anjumanjumanjumanjumanjum\n",
      "ISLAM IS A BEAUTIFUL RELIGION\n",
      "islam is a beautiful religion\n",
      "['islam', 'is', 'a', 'beautiful', 'religion']\n",
      "['', 'slam ', 's a beaut', 'ful rel', 'g', 'on']\n",
      "islam is a beautiful religion\n",
      "islam is a perfect religion\n",
      "29\n",
      "<class 'str'>\n",
      "beautiful is present in string\n",
      "good is not present in string islam is a beautiful religion\n"
     ]
    }
   ],
   "source": [
    "# string properties and method\n",
    "first_string = \"wolrd is beautiful\"\n",
    "print(first_string)\n",
    "last_letter = first_string[9:]\n",
    "new_string = \"sky is most \" + last_letter\n",
    "print(new_string)\n",
    "\n",
    "second_string = \"anjum\"\n",
    "multiply_string = 5 * second_string\n",
    "print(multiply_string)\n",
    "\n",
    "third_string = \"islam is a beautiful religion\"\n",
    "print(third_string.upper()) # convert string to uppercase\n",
    "print(third_string.lower()) # convert string to lowercase\n",
    "print(third_string.split()) # split the string by space\n",
    "print(third_string.split('i')) # split the string by i\n",
    "print(third_string.strip()) # remove whit spaces from start and end of string\n",
    "print(third_string.replace('beautiful' , 'perfect')) # replace word in a string\n",
    "\n",
    "print(len(third_string)) # length of the string or no. of character in a string\n",
    "print(type(third_string)) # find the type of variable\n",
    "\n",
    "if 'beautiful' in third_string:\n",
    "    print('beautiful' , 'is present in string')\n",
    "\n",
    "if 'good' not in third_string:\n",
    "    print('good' , 'is not present in string', third_string)\n",
    "\n"
   ]
  },
  {
   "cell_type": "code",
   "execution_count": 4,
   "id": "14fea950",
   "metadata": {
    "execution": {
     "iopub.execute_input": "2023-06-21T09:13:49.655450Z",
     "iopub.status.busy": "2023-06-21T09:13:49.655050Z",
     "iopub.status.idle": "2023-06-21T09:13:49.663870Z",
     "shell.execute_reply": "2023-06-21T09:13:49.662634Z"
    },
    "papermill": {
     "duration": 0.017969,
     "end_time": "2023-06-21T09:13:49.666374",
     "exception": false,
     "start_time": "2023-06-21T09:13:49.648405",
     "status": "completed"
    },
    "tags": []
   },
   "outputs": [
    {
     "name": "stdout",
     "output_type": "stream",
     "text": [
      "i want 5 pieces of item 539 for 49.7 dollar\n",
      "i want to pay 49.7 dollar for 5 pieces of item 539\n",
      "the quick brown fox   jumps\n",
      "The price of master orange color is 1.299\n",
      "my name is anjum and i'm 28 year old.\n"
     ]
    }
   ],
   "source": [
    "# format string\n",
    "# string format using format function\n",
    "price = 49.70\n",
    "quantity = 5\n",
    "item_no = 539\n",
    "\n",
    "my_order1 = 'i want {} pieces of item {} for {} dollar'\n",
    "print(my_order1.format(quantity , item_no , price))\n",
    "\n",
    "my_order2 = 'i want to pay {2} dollar for {0} pieces of item {1}'\n",
    "print(my_order2.format(quantity , item_no , price))\n",
    "\n",
    "print('the {q} {b} {f:5} jumps'.format(q='quick' , b='brown' , f='fox'))\n",
    "\n",
    "# string format using direct formating f'string\n",
    "color_price = 100/77\n",
    "print(f'The price of master orange color is {color_price:1.3f}')\n",
    "\n",
    "my_name = 'anjum'\n",
    "age = 28\n",
    "print(f'my name is {my_name} and i\\'m {age} year old.')"
   ]
  },
  {
   "cell_type": "code",
   "execution_count": 5,
   "id": "128fa818",
   "metadata": {
    "execution": {
     "iopub.execute_input": "2023-06-21T09:13:49.678609Z",
     "iopub.status.busy": "2023-06-21T09:13:49.678222Z",
     "iopub.status.idle": "2023-06-21T09:13:49.688730Z",
     "shell.execute_reply": "2023-06-21T09:13:49.687634Z"
    },
    "papermill": {
     "duration": 0.019358,
     "end_time": "2023-06-21T09:13:49.691017",
     "exception": false,
     "start_time": "2023-06-21T09:13:49.671659",
     "status": "completed"
    },
    "tags": []
   },
   "outputs": [
    {
     "name": "stdout",
     "output_type": "stream",
     "text": [
      "['banana', 'apple', 'mango', 'water apple', 'peach', 'orange']\n",
      "cherry\n",
      "the new fruit inserted in the list is \"cherry\"\n",
      "the fruit popped from the list is \"banana\"\n",
      "['a', 'b', 'f', 'g', 'x']\n",
      "[1, 2, 4, 7, 8, 9]\n",
      "[9, 8, 7, 4, 2, 1]\n"
     ]
    }
   ],
   "source": [
    "# Data Structure List\n",
    "fruit_list = ['banana' , 'apple' , 'mango']\n",
    "#print(fruit_list)\n",
    "\n",
    "#concatenate two list, append and popped item from the list\n",
    "another_fruit_list = ['orange' , 'peach']\n",
    "another_fruit_list[0] = 'water apple'\n",
    "another_fruit_list.append('orange')\n",
    "new_fruit_list = fruit_list + another_fruit_list\n",
    "print(new_fruit_list)\n",
    "\n",
    "\n",
    "fruit_list.append('cherry') # insert item on the last index of the list\n",
    "last_index = len(fruit_list)-1\n",
    "new_fruit = fruit_list[last_index]\n",
    "print(new_fruit)\n",
    "print(f'the new fruit inserted in the list is \\\"{new_fruit}\\\"')\n",
    "\n",
    "popped_fruit = fruit_list.pop(0) # pop last item in the list\n",
    "print(f'the fruit popped from the list is \\\"{popped_fruit}\\\"')\n",
    "\n",
    "# sort list and reverse list\n",
    "alph_list = ['a' , 'x' , 'b' , 'g' , 'f']\n",
    "alph_list.sort()\n",
    "alph_sorted_list = alph_list\n",
    "print(alph_sorted_list)\n",
    "\n",
    "num_list = [8 , 4 , 2 , 9 , 7 , 1]\n",
    "num_list.sort()\n",
    "print(num_list)\n",
    "num_list.reverse()\n",
    "print(num_list)"
   ]
  },
  {
   "cell_type": "code",
   "execution_count": 6,
   "id": "8014f94c",
   "metadata": {
    "execution": {
     "iopub.execute_input": "2023-06-21T09:13:49.703728Z",
     "iopub.status.busy": "2023-06-21T09:13:49.703278Z",
     "iopub.status.idle": "2023-06-21T09:13:49.715006Z",
     "shell.execute_reply": "2023-06-21T09:13:49.713670Z"
    },
    "papermill": {
     "duration": 0.021167,
     "end_time": "2023-06-21T09:13:49.717704",
     "exception": false,
     "start_time": "2023-06-21T09:13:49.696537",
     "status": "completed"
    },
    "tags": []
   },
   "outputs": [
    {
     "name": "stdout",
     "output_type": "stream",
     "text": [
      "value2\n",
      "value of apple is 2.9\n",
      "[2, 5, 6, 8]\n",
      "['a', 'b', 'd', 'x']\n",
      "D\n",
      "['a', 'b', 'd', 'x']\n",
      "100\n",
      "dict_values([123, [2, 5, 6, 8], {'inside_key': 100}, ['a', 'b', 'd', 'x']])\n",
      "dict_keys(['k1', 'k2', 'k3', 'k4'])\n",
      "dict_items([('k1', 123), ('k2', [2, 5, 6, 8]), ('k3', {'inside_key': 100}), ('k4', ['a', 'b', 'd', 'x'])])\n",
      "dict_values([100])\n",
      "dict_keys(['inside_key'])\n"
     ]
    }
   ],
   "source": [
    "# Data Structure Dictionaries\n",
    "my_dict = {'key1':'value1' , 'key2' : 'value2'}\n",
    "print(my_dict['key2'])\n",
    "\n",
    "fruit_prices = {'apple': 2.92 , 'banana' : 1.5 , 'orange' : 3}\n",
    "apple_price = fruit_prices['apple']\n",
    "print(f'value of apple is {apple_price:1.1f}')\n",
    "\n",
    "d = {'k1' : 123 , 'k2' : [6 , 5 , 8 , 2] , 'k3' : {'inside_key' : 100}\n",
    "     , 'k4' : ['a' , 'b' , 'x' , 'd']}\n",
    "#print(d['k2'].sort())\n",
    "list1 = d['k2']\n",
    "list1.sort()\n",
    "print(list1)\n",
    "\n",
    "list2 = d['k4']\n",
    "list2.sort()\n",
    "print(list2)\n",
    "print(list2[2].upper())\n",
    "print(list2)\n",
    "\n",
    "\n",
    "inside_dic = d['k3']\n",
    "print(inside_dic['inside_key'])\n",
    "\n",
    "# keys , value and itme of the dictionaries\n",
    "\n",
    "print(d.values())\n",
    "print(d.keys())\n",
    "print(d.items())\n",
    "\n",
    "print(d['k3'].values())\n",
    "print(d['k3'].keys())"
   ]
  },
  {
   "cell_type": "code",
   "execution_count": 7,
   "id": "48e7b5b0",
   "metadata": {
    "execution": {
     "iopub.execute_input": "2023-06-21T09:13:49.730436Z",
     "iopub.status.busy": "2023-06-21T09:13:49.730073Z",
     "iopub.status.idle": "2023-06-21T09:13:49.737101Z",
     "shell.execute_reply": "2023-06-21T09:13:49.735479Z"
    },
    "papermill": {
     "duration": 0.016164,
     "end_time": "2023-06-21T09:13:49.739444",
     "exception": false,
     "start_time": "2023-06-21T09:13:49.723280",
     "status": "completed"
    },
    "tags": []
   },
   "outputs": [
    {
     "name": "stdout",
     "output_type": "stream",
     "text": [
      "b\n",
      "2\n",
      "4\n"
     ]
    }
   ],
   "source": [
    "# Data Structure Tuple\n",
    "my_tuple = ('a' , 'b' , 'a' , 'b' , 'c')\n",
    "#print(type(my_tuple))\n",
    "print(my_tuple[1])\n",
    "print(my_tuple.count('a'))\n",
    "print(my_tuple.index('c'))"
   ]
  },
  {
   "cell_type": "code",
   "execution_count": 8,
   "id": "9e07c7ef",
   "metadata": {
    "execution": {
     "iopub.execute_input": "2023-06-21T09:13:49.754322Z",
     "iopub.status.busy": "2023-06-21T09:13:49.753922Z",
     "iopub.status.idle": "2023-06-21T09:13:49.761182Z",
     "shell.execute_reply": "2023-06-21T09:13:49.759869Z"
    },
    "papermill": {
     "duration": 0.018572,
     "end_time": "2023-06-21T09:13:49.763695",
     "exception": false,
     "start_time": "2023-06-21T09:13:49.745123",
     "status": "completed"
    },
    "tags": []
   },
   "outputs": [
    {
     "name": "stdout",
     "output_type": "stream",
     "text": [
      "set()\n",
      "{1}\n",
      "{1, 2}\n",
      "{1, 2, 3}\n"
     ]
    }
   ],
   "source": [
    "# Data Structure set\n",
    "my_set = set()\n",
    "print(my_set)\n",
    "my_set.add(1)\n",
    "print(my_set)\n",
    "my_set.add(2)\n",
    "print(my_set)\n",
    "\n",
    "my_list = [1 , 2 , 3 , 2 , 2 , 3 , 3 , 1]\n",
    "my_set = set(my_list)\n",
    "print(my_set)"
   ]
  },
  {
   "cell_type": "code",
   "execution_count": 9,
   "id": "bebf932c",
   "metadata": {
    "execution": {
     "iopub.execute_input": "2023-06-21T09:13:49.776803Z",
     "iopub.status.busy": "2023-06-21T09:13:49.776360Z",
     "iopub.status.idle": "2023-06-21T09:13:49.783193Z",
     "shell.execute_reply": "2023-06-21T09:13:49.782093Z"
    },
    "papermill": {
     "duration": 0.016301,
     "end_time": "2023-06-21T09:13:49.785636",
     "exception": false,
     "start_time": "2023-06-21T09:13:49.769335",
     "status": "completed"
    },
    "tags": []
   },
   "outputs": [
    {
     "name": "stdout",
     "output_type": "stream",
     "text": [
      "<class 'bool'>\n",
      "False\n",
      "True\n",
      "None\n"
     ]
    }
   ],
   "source": [
    "# Data Structure boolean\n",
    "True\n",
    "print(type(True))\n",
    "print(2 > 5)\n",
    "print(2 == 2)\n",
    "\n",
    "#b\n",
    "b = None\n",
    "print(b)"
   ]
  },
  {
   "cell_type": "code",
   "execution_count": 10,
   "id": "088a6ff2",
   "metadata": {
    "execution": {
     "iopub.execute_input": "2023-06-21T09:13:49.799209Z",
     "iopub.status.busy": "2023-06-21T09:13:49.798808Z",
     "iopub.status.idle": "2023-06-21T09:13:49.804152Z",
     "shell.execute_reply": "2023-06-21T09:13:49.803143Z"
    },
    "papermill": {
     "duration": 0.015094,
     "end_time": "2023-06-21T09:13:49.806482",
     "exception": false,
     "start_time": "2023-06-21T09:13:49.791388",
     "status": "completed"
    },
    "tags": []
   },
   "outputs": [],
   "source": [
    "# Data Structure File\n",
    "with open('readme.txt', 'w') as f:\n",
    "    f.write('Create a new text file!')\n",
    "    f.close()\n"
   ]
  },
  {
   "cell_type": "code",
   "execution_count": 11,
   "id": "275c0da0",
   "metadata": {
    "execution": {
     "iopub.execute_input": "2023-06-21T09:13:49.820135Z",
     "iopub.status.busy": "2023-06-21T09:13:49.819745Z",
     "iopub.status.idle": "2023-06-21T09:13:49.826493Z",
     "shell.execute_reply": "2023-06-21T09:13:49.825150Z"
    },
    "papermill": {
     "duration": 0.016619,
     "end_time": "2023-06-21T09:13:49.829022",
     "exception": false,
     "start_time": "2023-06-21T09:13:49.812403",
     "status": "completed"
    },
    "tags": []
   },
   "outputs": [
    {
     "name": "stdout",
     "output_type": "stream",
     "text": [
      "['Create a new text file!']\n"
     ]
    }
   ],
   "source": [
    "with open('readme.txt') as f:\n",
    "    #print(f.readlines())\n",
    "    #f.seek(0)            # move course start of the file\n",
    "    #print(f.readlines())\n",
    "    contents = f.readlines()\n",
    "    print(contents)\n",
    "    \n",
    "#with open('readme.txt', mode = 'w') as f:\n",
    "    #f.write(\"This is my first txt file\")\n",
    "    \n",
    "#with open('readme.txt', mode = 'a') as f:\n",
    "    #f.write('\\n this is second line')\n",
    "    #f.seek(0)"
   ]
  },
  {
   "cell_type": "code",
   "execution_count": 12,
   "id": "857d3729",
   "metadata": {
    "execution": {
     "iopub.execute_input": "2023-06-21T09:13:49.842617Z",
     "iopub.status.busy": "2023-06-21T09:13:49.842195Z",
     "iopub.status.idle": "2023-06-21T09:13:49.857057Z",
     "shell.execute_reply": "2023-06-21T09:13:49.855515Z"
    },
    "papermill": {
     "duration": 0.024699,
     "end_time": "2023-06-21T09:13:49.859571",
     "exception": false,
     "start_time": "2023-06-21T09:13:49.834872",
     "status": "completed"
    },
    "tags": []
   },
   "outputs": [
    {
     "name": "stdout",
     "output_type": "stream",
     "text": [
      "100.25\n",
      "100.25\n",
      "100.25\n",
      "25\n",
      "olleh\n",
      "o\n",
      "o\n",
      "[0, 0, 0]\n",
      "[1, 2, [1, 2, 'goodbye']]\n",
      "[1, 3, 4, 5, 6]\n",
      "hello\n",
      "hello\n",
      "hello\n",
      "hello\n",
      "{1, 2, 33, 4, 3, 11, 22}\n"
     ]
    }
   ],
   "source": [
    "# Python Object and Data Structure Assessment test\n",
    "# Assessment question 1 Numbers\n",
    "a , b = 45 , 55.25\n",
    "print(a+b)\n",
    "\n",
    "a , b = 2005 , 20\n",
    "print(a/b)\n",
    "\n",
    "a = 15\n",
    "b = 100.25/a\n",
    "print(a*b)\n",
    "\n",
    "a = 5\n",
    "print(a**2)\n",
    "\n",
    "# Assessment question 2 String\n",
    "my_str = 'hello'\n",
    "print(my_str[::-1])\n",
    "print(my_str[4])\n",
    "print(my_str[-1])\n",
    "\n",
    "# Assessment question 3 List\n",
    "#my_list = [0,0,0]\n",
    "#print (my_list)\n",
    "my_list = list([0,0,0])\n",
    "print(my_list)\n",
    "\n",
    "list3 = [1 , 2 , [1 , 2 , 'hello']]\n",
    "list3[2][2] = 'goodbye'\n",
    "print(list3)\n",
    "\n",
    "list4 = [5 , 3 , 4 , 6 , 1]\n",
    "list4.sort()\n",
    "sorted_list = list4\n",
    "print(sorted_list)\n",
    "\n",
    "# Assessment question 4 Dictionaries\n",
    "d = {'simple_key' : 'hello'}\n",
    "print(d['simple_key'])\n",
    "\n",
    "d = {'k1' : {'k2' : 'hello'}}\n",
    "print(d['k1']['k2'])\n",
    "\n",
    "d = {'k1' : [{'nested_key' : ['this is deep' , ['hello']]}]}\n",
    "d1 = d['k1'][0]['nested_key'][1][0]\n",
    "print(d1)\n",
    "\n",
    "d = {'k1' : [1 , 2 , {'k2' : ['this is tricky' , {'tough' : [1 , 2 , ['hello']]}]}]}\n",
    "#print(d['k1'][2]['k2'][1]['tough'][2][0])\n",
    "d1 = d['k1']\n",
    "d2 = d1[2]\n",
    "d3 = d2['k2']\n",
    "d4 = d3[1]\n",
    "d5 = d4['tough']\n",
    "d6 = d5[2]\n",
    "d7 = d6[0]\n",
    "print(d7)\n",
    "\n",
    "# Assessment question 6 Dictionaries\n",
    "list5 = [1 , 2 , 2 , 33 , 4 , 4 , 11 , 22 , 3 , 3 , 2]\n",
    "s = set(list5)\n",
    "print(s)"
   ]
  }
 ],
 "metadata": {
  "kernelspec": {
   "display_name": "Python 3",
   "language": "python",
   "name": "python3"
  },
  "language_info": {
   "codemirror_mode": {
    "name": "ipython",
    "version": 3
   },
   "file_extension": ".py",
   "mimetype": "text/x-python",
   "name": "python",
   "nbconvert_exporter": "python",
   "pygments_lexer": "ipython3",
   "version": "3.10.10"
  },
  "papermill": {
   "default_parameters": {},
   "duration": 14.258502,
   "end_time": "2023-06-21T09:13:50.788186",
   "environment_variables": {},
   "exception": null,
   "input_path": "__notebook__.ipynb",
   "output_path": "__notebook__.ipynb",
   "parameters": {},
   "start_time": "2023-06-21T09:13:36.529684",
   "version": "2.4.0"
  }
 },
 "nbformat": 4,
 "nbformat_minor": 5
}
