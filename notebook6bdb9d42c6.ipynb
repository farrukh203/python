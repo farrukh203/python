{
 "cells": [
  {
   "cell_type": "code",
   "execution_count": 1,
   "id": "ba062e1f",
   "metadata": {
    "_cell_guid": "b1076dfc-b9ad-4769-8c92-a6c4dae69d19",
    "_uuid": "8f2839f25d086af736a60e9eeb907d3b93b6e0e5",
    "execution": {
     "iopub.execute_input": "2023-06-20T14:52:53.859868Z",
     "iopub.status.busy": "2023-06-20T14:52:53.859531Z",
     "iopub.status.idle": "2023-06-20T14:52:53.869117Z",
     "shell.execute_reply": "2023-06-20T14:52:53.868465Z"
    },
    "papermill": {
     "duration": 0.017196,
     "end_time": "2023-06-20T14:52:53.871046",
     "exception": false,
     "start_time": "2023-06-20T14:52:53.853850",
     "status": "completed"
    },
    "tags": []
   },
   "outputs": [],
   "source": [
    "# This Python 3 environment comes with many helpful analytics libraries installed\n",
    "# It is defined by the kaggle/python Docker image: https://github.com/kaggle/docker-python\n",
    "# For example, here's several helpful packages to load\n",
    "\n",
    "import numpy as np # linear algebra\n",
    "import pandas as pd # data processing, CSV file I/O (e.g. pd.read_csv)\n",
    "\n",
    "# Input data files are available in the read-only \"../input/\" directory\n",
    "# For example, running this (by clicking run or pressing Shift+Enter) will list all files under the input directory\n",
    "\n",
    "import os\n",
    "for dirname, _, filenames in os.walk('/kaggle/input'):\n",
    "    for filename in filenames:\n",
    "        print(os.path.join(dirname, filename))\n",
    "\n",
    "# You can write up to 20GB to the current directory (/kaggle/working/) that gets preserved as output when you create a version using \"Save & Run All\" \n",
    "# You can also write temporary files to /kaggle/temp/, but they won't be saved outside of the current session"
   ]
  },
  {
   "cell_type": "code",
   "execution_count": 2,
   "id": "29243e69",
   "metadata": {
    "execution": {
     "iopub.execute_input": "2023-06-20T14:52:53.880079Z",
     "iopub.status.busy": "2023-06-20T14:52:53.879495Z",
     "iopub.status.idle": "2023-06-20T14:52:53.885128Z",
     "shell.execute_reply": "2023-06-20T14:52:53.884500Z"
    },
    "papermill": {
     "duration": 0.012191,
     "end_time": "2023-06-20T14:52:53.887045",
     "exception": false,
     "start_time": "2023-06-20T14:52:53.874854",
     "status": "completed"
    },
    "tags": []
   },
   "outputs": [
    {
     "name": "stdout",
     "output_type": "stream",
     "text": [
      "t\n",
      "i\n",
      "y\n",
      "is my first\n",
      "this is my\n",
      "this is my first string\n",
      "tssyittn\n",
      "i sm is\n"
     ]
    }
   ],
   "source": [
    "# indexing and silicing with string\n",
    "my_string = \"this is my first string\"\n",
    "\n",
    "# string indexing\n",
    "print(my_string[0])\n",
    "print(my_string[5])\n",
    "print(my_string[9])\n",
    "\n",
    "#string slicing\n",
    "print(my_string[5:16])\n",
    "print(my_string[:10])\n",
    "print(my_string[0:])\n",
    "print(my_string[::3])\n",
    "print(my_string[2:16:2])"
   ]
  },
  {
   "cell_type": "code",
   "execution_count": 3,
   "id": "f31d3ddb",
   "metadata": {
    "execution": {
     "iopub.execute_input": "2023-06-20T14:52:53.896550Z",
     "iopub.status.busy": "2023-06-20T14:52:53.896098Z",
     "iopub.status.idle": "2023-06-20T14:52:53.905048Z",
     "shell.execute_reply": "2023-06-20T14:52:53.903797Z"
    },
    "papermill": {
     "duration": 0.016258,
     "end_time": "2023-06-20T14:52:53.907344",
     "exception": false,
     "start_time": "2023-06-20T14:52:53.891086",
     "status": "completed"
    },
    "tags": []
   },
   "outputs": [
    {
     "name": "stdout",
     "output_type": "stream",
     "text": [
      "wolrd is beautiful\n",
      "sky is most beautiful\n",
      "anjumanjumanjumanjumanjum\n",
      "ISLAM IS A BEAUTIFUL RELIGION\n",
      "islam is a beautiful religion\n",
      "['islam', 'is', 'a', 'beautiful', 'religion']\n",
      "['', 'slam ', 's a beaut', 'ful rel', 'g', 'on']\n",
      "islam is a beautiful religion\n",
      "islam is a perfect religion\n",
      "29\n",
      "<class 'str'>\n",
      "beautiful is present in string\n",
      "good is not present in string islam is a beautiful religion\n"
     ]
    }
   ],
   "source": [
    "# string properties and method\n",
    "first_string = \"wolrd is beautiful\"\n",
    "print(first_string)\n",
    "last_letter = first_string[9:]\n",
    "new_string = \"sky is most \" + last_letter\n",
    "print(new_string)\n",
    "\n",
    "second_string = \"anjum\"\n",
    "multiply_string = 5 * second_string\n",
    "print(multiply_string)\n",
    "\n",
    "third_string = \"islam is a beautiful religion\"\n",
    "print(third_string.upper()) # convert string to uppercase\n",
    "print(third_string.lower()) # convert string to lowercase\n",
    "print(third_string.split()) # split the string by space\n",
    "print(third_string.split('i')) # split the string by i\n",
    "print(third_string.strip()) # remove whit spaces from start and end of string\n",
    "print(third_string.replace('beautiful' , 'perfect')) # replace word in a string\n",
    "\n",
    "print(len(third_string)) # length of the string or no. of character in a string\n",
    "print(type(third_string)) # find the type of variable\n",
    "\n",
    "if 'beautiful' in third_string:\n",
    "    print('beautiful' , 'is present in string')\n",
    "\n",
    "if 'good' not in third_string:\n",
    "    print('good' , 'is not present in string', third_string)\n",
    "\n"
   ]
  },
  {
   "cell_type": "code",
   "execution_count": 4,
   "id": "87e43d03",
   "metadata": {
    "execution": {
     "iopub.execute_input": "2023-06-20T14:52:53.916416Z",
     "iopub.status.busy": "2023-06-20T14:52:53.915753Z",
     "iopub.status.idle": "2023-06-20T14:52:53.922765Z",
     "shell.execute_reply": "2023-06-20T14:52:53.922033Z"
    },
    "papermill": {
     "duration": 0.013545,
     "end_time": "2023-06-20T14:52:53.924643",
     "exception": false,
     "start_time": "2023-06-20T14:52:53.911098",
     "status": "completed"
    },
    "tags": []
   },
   "outputs": [
    {
     "name": "stdout",
     "output_type": "stream",
     "text": [
      "i want 5 pieces of item 539 for 49.7 dollar\n",
      "i want to pay 49.7 dollar for 5 pieces of item 539\n",
      "the quick brown fox   jumps\n",
      "The price of master orange color is 1.299\n",
      "my name is anjum and i'm 28 year old.\n"
     ]
    }
   ],
   "source": [
    "# format string\n",
    "# string format using format function\n",
    "price = 49.70\n",
    "quantity = 5\n",
    "item_no = 539\n",
    "\n",
    "my_order1 = 'i want {} pieces of item {} for {} dollar'\n",
    "print(my_order1.format(quantity , item_no , price))\n",
    "\n",
    "my_order2 = 'i want to pay {2} dollar for {0} pieces of item {1}'\n",
    "print(my_order2.format(quantity , item_no , price))\n",
    "\n",
    "print('the {q} {b} {f:5} jumps'.format(q='quick' , b='brown' , f='fox'))\n",
    "\n",
    "# string format using direct formating f'string\n",
    "color_price = 100/77\n",
    "print(f'The price of master orange color is {color_price:1.3f}')\n",
    "\n",
    "my_name = 'anjum'\n",
    "age = 28\n",
    "print(f'my name is {my_name} and i\\'m {age} year old.')"
   ]
  },
  {
   "cell_type": "code",
   "execution_count": 5,
   "id": "17bea36a",
   "metadata": {
    "execution": {
     "iopub.execute_input": "2023-06-20T14:52:53.933866Z",
     "iopub.status.busy": "2023-06-20T14:52:53.933294Z",
     "iopub.status.idle": "2023-06-20T14:52:53.940930Z",
     "shell.execute_reply": "2023-06-20T14:52:53.939923Z"
    },
    "papermill": {
     "duration": 0.01461,
     "end_time": "2023-06-20T14:52:53.943009",
     "exception": false,
     "start_time": "2023-06-20T14:52:53.928399",
     "status": "completed"
    },
    "tags": []
   },
   "outputs": [
    {
     "name": "stdout",
     "output_type": "stream",
     "text": [
      "['banana', 'apple', 'mango', 'water apple', 'peach', 'orange']\n",
      "cherry\n",
      "the new fruit inserted in the list is \"cherry\"\n",
      "the fruit popped from the list is \"banana\"\n",
      "['a', 'b', 'f', 'g', 'x']\n",
      "[1, 2, 4, 7, 8, 9]\n",
      "[9, 8, 7, 4, 2, 1]\n"
     ]
    }
   ],
   "source": [
    "# Data Structure List\n",
    "fruit_list = ['banana' , 'apple' , 'mango']\n",
    "#print(fruit_list)\n",
    "\n",
    "#concatenate two list, append and popped item from the list\n",
    "another_fruit_list = ['orange' , 'peach']\n",
    "another_fruit_list[0] = 'water apple'\n",
    "another_fruit_list.append('orange')\n",
    "new_fruit_list = fruit_list + another_fruit_list\n",
    "print(new_fruit_list)\n",
    "\n",
    "\n",
    "fruit_list.append('cherry') # insert item on the last index of the list\n",
    "last_index = len(fruit_list)-1\n",
    "new_fruit = fruit_list[last_index]\n",
    "print(new_fruit)\n",
    "print(f'the new fruit inserted in the list is \\\"{new_fruit}\\\"')\n",
    "\n",
    "popped_fruit = fruit_list.pop(0) # pop last item in the list\n",
    "print(f'the fruit popped from the list is \\\"{popped_fruit}\\\"')\n",
    "\n",
    "# sort list and reverse list\n",
    "alph_list = ['a' , 'x' , 'b' , 'g' , 'f']\n",
    "alph_list.sort()\n",
    "alph_sorted_list = alph_list\n",
    "print(alph_sorted_list)\n",
    "\n",
    "num_list = [8 , 4 , 2 , 9 , 7 , 1]\n",
    "num_list.sort()\n",
    "print(num_list)\n",
    "num_list.reverse()\n",
    "print(num_list)"
   ]
  },
  {
   "cell_type": "code",
   "execution_count": 6,
   "id": "99a4bdf7",
   "metadata": {
    "execution": {
     "iopub.execute_input": "2023-06-20T14:52:53.952459Z",
     "iopub.status.busy": "2023-06-20T14:52:53.951855Z",
     "iopub.status.idle": "2023-06-20T14:52:53.960282Z",
     "shell.execute_reply": "2023-06-20T14:52:53.959312Z"
    },
    "papermill": {
     "duration": 0.015784,
     "end_time": "2023-06-20T14:52:53.962741",
     "exception": false,
     "start_time": "2023-06-20T14:52:53.946957",
     "status": "completed"
    },
    "tags": []
   },
   "outputs": [
    {
     "name": "stdout",
     "output_type": "stream",
     "text": [
      "value2\n",
      "value of apple is 2.9\n",
      "[2, 5, 6, 8]\n",
      "['a', 'b', 'd', 'x']\n",
      "D\n",
      "['a', 'b', 'd', 'x']\n",
      "100\n",
      "dict_values([123, [2, 5, 6, 8], {'inside_key': 100}, ['a', 'b', 'd', 'x']])\n",
      "dict_keys(['k1', 'k2', 'k3', 'k4'])\n",
      "dict_items([('k1', 123), ('k2', [2, 5, 6, 8]), ('k3', {'inside_key': 100}), ('k4', ['a', 'b', 'd', 'x'])])\n",
      "dict_values([100])\n",
      "dict_keys(['inside_key'])\n"
     ]
    }
   ],
   "source": [
    "# Data Structure Dictionaries\n",
    "my_dict = {'key1':'value1' , 'key2' : 'value2'}\n",
    "print(my_dict['key2'])\n",
    "\n",
    "fruit_prices = {'apple': 2.92 , 'banana' : 1.5 , 'orange' : 3}\n",
    "apple_price = fruit_prices['apple']\n",
    "print(f'value of apple is {apple_price:1.1f}')\n",
    "\n",
    "d = {'k1' : 123 , 'k2' : [6 , 5 , 8 , 2] , 'k3' : {'inside_key' : 100}\n",
    "     , 'k4' : ['a' , 'b' , 'x' , 'd']}\n",
    "#print(d['k2'].sort())\n",
    "list1 = d['k2']\n",
    "list1.sort()\n",
    "print(list1)\n",
    "\n",
    "list2 = d['k4']\n",
    "list2.sort()\n",
    "print(list2)\n",
    "print(list2[2].upper())\n",
    "print(list2)\n",
    "\n",
    "\n",
    "inside_dic = d['k3']\n",
    "print(inside_dic['inside_key'])\n",
    "\n",
    "# keys , value and itme of the dictionaries\n",
    "\n",
    "print(d.values())\n",
    "print(d.keys())\n",
    "print(d.items())\n",
    "\n",
    "print(d['k3'].values())\n",
    "print(d['k3'].keys())"
   ]
  },
  {
   "cell_type": "code",
   "execution_count": 7,
   "id": "59945e45",
   "metadata": {
    "execution": {
     "iopub.execute_input": "2023-06-20T14:52:53.971908Z",
     "iopub.status.busy": "2023-06-20T14:52:53.971593Z",
     "iopub.status.idle": "2023-06-20T14:52:53.976795Z",
     "shell.execute_reply": "2023-06-20T14:52:53.975849Z"
    },
    "papermill": {
     "duration": 0.01276,
     "end_time": "2023-06-20T14:52:53.979422",
     "exception": false,
     "start_time": "2023-06-20T14:52:53.966662",
     "status": "completed"
    },
    "tags": []
   },
   "outputs": [
    {
     "name": "stdout",
     "output_type": "stream",
     "text": [
      "b\n",
      "2\n",
      "4\n"
     ]
    }
   ],
   "source": [
    "# Data Structure Tuple\n",
    "my_tuple = ('a' , 'b' , 'a' , 'b' , 'c')\n",
    "#print(type(my_tuple))\n",
    "print(my_tuple[1])\n",
    "print(my_tuple.count('a'))\n",
    "print(my_tuple.index('c'))"
   ]
  },
  {
   "cell_type": "code",
   "execution_count": 8,
   "id": "9dfa0653",
   "metadata": {
    "execution": {
     "iopub.execute_input": "2023-06-20T14:52:53.990463Z",
     "iopub.status.busy": "2023-06-20T14:52:53.990118Z",
     "iopub.status.idle": "2023-06-20T14:52:53.996307Z",
     "shell.execute_reply": "2023-06-20T14:52:53.995241Z"
    },
    "papermill": {
     "duration": 0.015235,
     "end_time": "2023-06-20T14:52:53.998721",
     "exception": false,
     "start_time": "2023-06-20T14:52:53.983486",
     "status": "completed"
    },
    "tags": []
   },
   "outputs": [
    {
     "name": "stdout",
     "output_type": "stream",
     "text": [
      "set()\n",
      "{1}\n",
      "{1, 2}\n",
      "{1, 2, 3}\n"
     ]
    }
   ],
   "source": [
    "# Data Structure set\n",
    "my_set = set()\n",
    "print(my_set)\n",
    "my_set.add(1)\n",
    "print(my_set)\n",
    "my_set.add(2)\n",
    "print(my_set)\n",
    "\n",
    "my_list = [1 , 2 , 3 , 2 , 2 , 3 , 3 , 1]\n",
    "my_set = set(my_list)\n",
    "print(my_set)"
   ]
  },
  {
   "cell_type": "code",
   "execution_count": 9,
   "id": "4121ab13",
   "metadata": {
    "execution": {
     "iopub.execute_input": "2023-06-20T14:52:54.008538Z",
     "iopub.status.busy": "2023-06-20T14:52:54.008156Z",
     "iopub.status.idle": "2023-06-20T14:52:54.014019Z",
     "shell.execute_reply": "2023-06-20T14:52:54.013050Z"
    },
    "papermill": {
     "duration": 0.013108,
     "end_time": "2023-06-20T14:52:54.015898",
     "exception": false,
     "start_time": "2023-06-20T14:52:54.002790",
     "status": "completed"
    },
    "tags": []
   },
   "outputs": [
    {
     "name": "stdout",
     "output_type": "stream",
     "text": [
      "<class 'bool'>\n",
      "False\n",
      "True\n",
      "None\n"
     ]
    }
   ],
   "source": [
    "# Data Structure boolean\n",
    "True\n",
    "print(type(True))\n",
    "print(2 > 5)\n",
    "print(2 == 2)\n",
    "\n",
    "#b\n",
    "b = None\n",
    "print(b)"
   ]
  },
  {
   "cell_type": "code",
   "execution_count": 10,
   "id": "bd12cdb9",
   "metadata": {
    "execution": {
     "iopub.execute_input": "2023-06-20T14:52:54.025456Z",
     "iopub.status.busy": "2023-06-20T14:52:54.025052Z",
     "iopub.status.idle": "2023-06-20T14:52:54.030018Z",
     "shell.execute_reply": "2023-06-20T14:52:54.029218Z"
    },
    "papermill": {
     "duration": 0.011925,
     "end_time": "2023-06-20T14:52:54.031877",
     "exception": false,
     "start_time": "2023-06-20T14:52:54.019952",
     "status": "completed"
    },
    "tags": []
   },
   "outputs": [],
   "source": [
    "# Data Structure File\n",
    "with open('readme.txt', 'w') as f:\n",
    "    f.write('Create a new text file!')\n",
    "    f.close()\n"
   ]
  },
  {
   "cell_type": "code",
   "execution_count": 11,
   "id": "6e3b4658",
   "metadata": {
    "execution": {
     "iopub.execute_input": "2023-06-20T14:52:54.041581Z",
     "iopub.status.busy": "2023-06-20T14:52:54.041192Z",
     "iopub.status.idle": "2023-06-20T14:52:54.046913Z",
     "shell.execute_reply": "2023-06-20T14:52:54.045717Z"
    },
    "papermill": {
     "duration": 0.012964,
     "end_time": "2023-06-20T14:52:54.049076",
     "exception": false,
     "start_time": "2023-06-20T14:52:54.036112",
     "status": "completed"
    },
    "tags": []
   },
   "outputs": [
    {
     "name": "stdout",
     "output_type": "stream",
     "text": [
      "['Create a new text file!']\n"
     ]
    }
   ],
   "source": [
    "with open('readme.txt') as f:\n",
    "    #print(f.readlines())\n",
    "    #f.seek(0)            # move course start of the file\n",
    "    #print(f.readlines())\n",
    "    contents = f.readlines()\n",
    "    print(contents)\n",
    "    \n",
    "#with open('readme.txt', mode = 'w') as f:\n",
    "    #f.write(\"This is my first txt file\")\n",
    "    \n",
    "#with open('readme.txt', mode = 'a') as f:\n",
    "    #f.write('\\n this is second line')\n",
    "    #f.seek(0)"
   ]
  },
  {
   "cell_type": "code",
   "execution_count": 12,
   "id": "6efef1a3",
   "metadata": {
    "execution": {
     "iopub.execute_input": "2023-06-20T14:52:54.059033Z",
     "iopub.status.busy": "2023-06-20T14:52:54.058692Z",
     "iopub.status.idle": "2023-06-20T14:52:54.066744Z",
     "shell.execute_reply": "2023-06-20T14:52:54.065702Z"
    },
    "papermill": {
     "duration": 0.015282,
     "end_time": "2023-06-20T14:52:54.068802",
     "exception": false,
     "start_time": "2023-06-20T14:52:54.053520",
     "status": "completed"
    },
    "tags": []
   },
   "outputs": [
    {
     "name": "stdout",
     "output_type": "stream",
     "text": [
      "100.25\n",
      "100.25\n",
      "100.25\n",
      "25\n",
      "olleh\n",
      "o\n",
      "o\n",
      "[0, 0, 0]\n",
      "[1, 2, [1, 2, 'goodbye']]\n",
      "[1, 3, 4, 5, 6]\n"
     ]
    }
   ],
   "source": [
    "# Python Object and Data Structure Assessment test\n",
    "a , b = 45 , 55.25\n",
    "print(a+b)\n",
    "\n",
    "a , b = 2005 , 20\n",
    "print(a/b)\n",
    "\n",
    "a = 15\n",
    "b = 100.25/a\n",
    "print(a*b)\n",
    "\n",
    "a = 5\n",
    "print(a**2)\n",
    "\n",
    "my_str = 'hello'\n",
    "print(my_str[::-1])\n",
    "print(my_str[4])\n",
    "print(my_str[-1])\n",
    "\n",
    "#my_list = [0,0,0]\n",
    "#print (my_list)\n",
    "my_list = list([0,0,0])\n",
    "print(my_list)\n",
    "\n",
    "list3 = [1 , 2 , [1 , 2 , 'hello']]\n",
    "list3[2][2] = 'goodbye'\n",
    "print(list3)\n",
    "\n",
    "list4 = [5 , 3 , 4 , 6 , 1]\n",
    "list4.sort()\n",
    "sorted_list = list4\n",
    "print(sorted_list)\n"
   ]
  }
 ],
 "metadata": {
  "kernelspec": {
   "display_name": "Python 3",
   "language": "python",
   "name": "python3"
  },
  "language_info": {
   "codemirror_mode": {
    "name": "ipython",
    "version": 3
   },
   "file_extension": ".py",
   "mimetype": "text/x-python",
   "name": "python",
   "nbconvert_exporter": "python",
   "pygments_lexer": "ipython3",
   "version": "3.10.10"
  },
  "papermill": {
   "default_parameters": {},
   "duration": 10.353005,
   "end_time": "2023-06-20T14:52:54.893677",
   "environment_variables": {},
   "exception": null,
   "input_path": "__notebook__.ipynb",
   "output_path": "__notebook__.ipynb",
   "parameters": {},
   "start_time": "2023-06-20T14:52:44.540672",
   "version": "2.4.0"
  }
 },
 "nbformat": 4,
 "nbformat_minor": 5
}
